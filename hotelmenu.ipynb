{
 "cells": [
  {
   "cell_type": "markdown",
   "metadata": {},
   "source": [
    "Hotel management - digital menu"
   ]
  },
  {
   "cell_type": "code",
   "execution_count": 7,
   "metadata": {},
   "outputs": [],
   "source": [
    "# make a list of item\n",
    "menu= { 'Coffee':80 ,'Pohe':15,'Samosa':10,'kachori':10,\n",
    "       'Pasta':50,'hakka Noodles':50,'Paratha':60,'Pastry':40}"
   ]
  },
  {
   "cell_type": "code",
   "execution_count": 8,
   "metadata": {},
   "outputs": [
    {
     "name": "stdout",
     "output_type": "stream",
     "text": [
      "Hello, Green Leaf Cafe Welcomes you!\n",
      "Check Menu List!\n",
      "\n",
      "Coffee\n",
      "Pohe\n",
      "Samosa\n",
      "kachori\n",
      "Pasta\n",
      "hakka Noodles\n",
      "Paratha\n",
      "Pastry\n",
      "Your order of Coffee is confirmed.\n",
      "Your Bill: 120\n",
      "Thank you for Ordering! \n"
     ]
    }
   ],
   "source": [
    "print(\"Hello, Green Leaf Cafe Welcomes you!\\nCheck Menu List!\\n\")\n",
    "for i in menu:\n",
    "    print(i)\n",
    "total_amount = 0\n",
    "order_item = input(\"Enter your order no.: \")\n",
    "if order_item in menu :\n",
    "    total_amount =total_amount+ menu[order_item]\n",
    "    print(f\"Your order of {order_item} is confirmed.\")\n",
    "else:\n",
    "    print(\"Please enter a valid item, We are sorry {order_item} can not be served!\")\n",
    "    \n",
    "anathor_item=input(\"Did you want to order anather item (1/0): \")\n",
    "\n",
    "if anathor_item==\"1\":\n",
    "    item_2 = input(\"Enter your order: \")\n",
    "    if item_2 in menu :\n",
    "            total_amount = total_amount+ menu[item_2]\n",
    "            print(\"Your Bill:\",total_amount)\n",
    "            print(\"Thank you for Ordering! \")\n",
    "    else:\n",
    "            print(\"Please enter a valid item, We are sorry {item} can not be served!\")\n",
    "else:\n",
    "    print(\"Your Bill:\",total_amount)\n",
    "    print(\"Thank you for Ordering! \")\n",
    "    "
   ]
  }
 ],
 "metadata": {
  "kernelspec": {
   "display_name": "Python 3",
   "language": "python",
   "name": "python3"
  },
  "language_info": {
   "codemirror_mode": {
    "name": "ipython",
    "version": 3
   },
   "file_extension": ".py",
   "mimetype": "text/x-python",
   "name": "python",
   "nbconvert_exporter": "python",
   "pygments_lexer": "ipython3",
   "version": "3.11.9"
  }
 },
 "nbformat": 4,
 "nbformat_minor": 2
}

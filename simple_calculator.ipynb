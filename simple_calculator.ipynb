{
 "cells": [
  {
   "cell_type": "markdown",
   "metadata": {},
   "source": [
    "# Mini Calculator"
   ]
  },
  {
   "cell_type": "code",
   "execution_count": 5,
   "metadata": {},
   "outputs": [],
   "source": [
    "def calc():\n",
    "    print(\"Hello! this is mini calci.\\nwhich operation you wanna perform\")\n",
    "    dic={1:'Addition', 2:'Multiplication', 3:'Subtract', 4:'Division'}\n",
    "    for k,v in dic.items():\n",
    "        print(f\"{k}-{v}\")\n",
    "    inp=int(input(\"Enter Number according to Operation\"))\n",
    "    num1=int(input(\"Enter First Number.\"))\n",
    "    num2=int(input(\"Enter second Number.\"))\n",
    "    if inp==1:\n",
    "        return num1+num2\n",
    "    elif inp==2:\n",
    "        return num1*num2\n",
    "    elif inp==3:\n",
    "        return num1-num2\n",
    "    elif inp==4:\n",
    "        return num1/num2\n",
    "    else:\n",
    "        return \"Please Enter a valid number to perform operations ! \"\n",
    "    "
   ]
  },
  {
   "cell_type": "code",
   "execution_count": 8,
   "metadata": {},
   "outputs": [
    {
     "name": "stdout",
     "output_type": "stream",
     "text": [
      "Hello! this is mini calci.\n",
      "which operation you wanna perform\n",
      "1-Addition\n",
      "2-Multiplication\n",
      "3-Subtract\n",
      "4-Division\n"
     ]
    },
    {
     "data": {
      "text/plain": [
       "'Please Enter a valid number to perform operations ! '"
      ]
     },
     "execution_count": 8,
     "metadata": {},
     "output_type": "execute_result"
    }
   ],
   "source": [
    "calc()"
   ]
  }
 ],
 "metadata": {
  "kernelspec": {
   "display_name": "Python 3",
   "language": "python",
   "name": "python3"
  },
  "language_info": {
   "codemirror_mode": {
    "name": "ipython",
    "version": 3
   },
   "file_extension": ".py",
   "mimetype": "text/x-python",
   "name": "python",
   "nbconvert_exporter": "python",
   "pygments_lexer": "ipython3",
   "version": "3.11.9"
  }
 },
 "nbformat": 4,
 "nbformat_minor": 2
}

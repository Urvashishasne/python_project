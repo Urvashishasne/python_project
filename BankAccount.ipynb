{
 "cells": [
  {
   "cell_type": "markdown",
   "metadata": {},
   "source": [
    "Credit and Debit money from Bank Account Using OOPs"
   ]
  },
  {
   "cell_type": "code",
   "execution_count": 1,
   "metadata": {},
   "outputs": [],
   "source": [
    "#make a class for bank \n",
    "class SBI_Bank:\n",
    "    def __init__(self,accno,balance):\n",
    "        self.accno=accno\n",
    "        self.balance=balance\n",
    "    def get_balance(self):\n",
    "        print(\"Your current balance is:\",self.balance)\n",
    "    def debit(self,amount):\n",
    "        self.balance=self.balance-amount\n",
    "        print(f\"Rs.{amount} has been debited from your account\")\n",
    "\n",
    "    def credit(self,amount):\n",
    "        self.balance+=amount\n",
    "        print(f\"Rs.{amount} has been Credited to your account\")\n",
    "        "
   ]
  },
  {
   "cell_type": "code",
   "execution_count": 5,
   "metadata": {},
   "outputs": [
    {
     "name": "stdout",
     "output_type": "stream",
     "text": [
      "Rs.500 has been Credited to your account\n",
      "Your current balance is: 2500\n"
     ]
    }
   ],
   "source": [
    "acc=SBI_Bank(2,2000)\n",
    "acc.credit(500)"
   ]
  },
  {
   "cell_type": "code",
   "execution_count": 6,
   "metadata": {},
   "outputs": [
    {
     "name": "stdout",
     "output_type": "stream",
     "text": [
      "Your current balance is: 2500\n"
     ]
    }
   ],
   "source": [
    "acc.get_balance()"
   ]
  },
  {
   "cell_type": "code",
   "execution_count": 7,
   "metadata": {},
   "outputs": [
    {
     "name": "stdout",
     "output_type": "stream",
     "text": [
      "Rs.700 has been debited from your account\n"
     ]
    }
   ],
   "source": [
    "acc.debit(700)"
   ]
  }
 ],
 "metadata": {
  "kernelspec": {
   "display_name": "Python 3",
   "language": "python",
   "name": "python3"
  },
  "language_info": {
   "codemirror_mode": {
    "name": "ipython",
    "version": 3
   },
   "file_extension": ".py",
   "mimetype": "text/x-python",
   "name": "python",
   "nbconvert_exporter": "python",
   "pygments_lexer": "ipython3",
   "version": "3.11.9"
  }
 },
 "nbformat": 4,
 "nbformat_minor": 2
}
